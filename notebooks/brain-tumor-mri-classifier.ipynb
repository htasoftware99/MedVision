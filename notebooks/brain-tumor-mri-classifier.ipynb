{
 "cells": [
  {
   "cell_type": "markdown",
   "metadata": {},
   "source": [
    "# **Libraries**"
   ]
  },
  {
   "cell_type": "code",
   "execution_count": null,
   "metadata": {
    "_cell_guid": "b1076dfc-b9ad-4769-8c92-a6c4dae69d19",
    "_uuid": "8f2839f25d086af736a60e9eeb907d3b93b6e0e5",
    "execution": {
     "iopub.execute_input": "2024-08-09T18:21:38.78558Z",
     "iopub.status.busy": "2024-08-09T18:21:38.784752Z",
     "iopub.status.idle": "2024-08-09T18:21:38.790049Z",
     "shell.execute_reply": "2024-08-09T18:21:38.78917Z",
     "shell.execute_reply.started": "2024-08-09T18:21:38.78555Z"
    }
   },
   "outputs": [],
   "source": [
    "# This Python 3 environment comes with many helpful analytics libraries installed\n",
    "# It is defined by the kaggle/python Docker image: https://github.com/kaggle/docker-python\n",
    "# For example, here's several helpful packages to load\n",
    "\n",
    "import numpy as np # linear algebra\n",
    "import pandas as pd # data processing, CSV file I/O (e.g. pd.read_csv)\n",
    "\n",
    "# Input data files are available in the read-only \"../input/\" directory\n",
    "# For example, running this (by clicking run or pressing Shift+Enter) will list all files under the input directory\n",
    "\n",
    "import os\n",
    "\n",
    "\n",
    "# You can write up to 20GB to the current directory (/kaggle/working/) that gets preserved as output when you create a version using \"Save & Run All\" \n",
    "# You can also write temporary files to /kaggle/temp/, but they won't be saved outside of the current session"
   ]
  },
  {
   "cell_type": "code",
   "execution_count": null,
   "metadata": {
    "execution": {
     "iopub.execute_input": "2024-08-09T18:21:53.386397Z",
     "iopub.status.busy": "2024-08-09T18:21:53.385816Z",
     "iopub.status.idle": "2024-08-09T18:21:54.17433Z",
     "shell.execute_reply": "2024-08-09T18:21:54.173367Z",
     "shell.execute_reply.started": "2024-08-09T18:21:53.386367Z"
    }
   },
   "outputs": [],
   "source": [
    "# Lib for preprocessing  \n",
    "from PIL import Image\n",
    "import itertools \n",
    "import matplotlib.pyplot as plt\n",
    "import seaborn as sns \n",
    "sns.set_style(\"darkgrid\")\n",
    "from sklearn.model_selection import train_test_split \n",
    "from sklearn.metrics import confusion_matrix , classification_report  \n",
    "import warnings \n",
    "warnings.filterwarnings(\"ignore\")"
   ]
  },
  {
   "cell_type": "code",
   "execution_count": null,
   "metadata": {
    "execution": {
     "iopub.execute_input": "2024-08-09T18:54:08.817236Z",
     "iopub.status.busy": "2024-08-09T18:54:08.816902Z",
     "iopub.status.idle": "2024-08-09T18:54:08.823549Z",
     "shell.execute_reply": "2024-08-09T18:54:08.822484Z",
     "shell.execute_reply.started": "2024-08-09T18:54:08.817211Z"
    }
   },
   "outputs": [],
   "source": [
    "# Lib for model \n",
    "import tensorflow as tf\n",
    "from tensorflow import keras \n",
    "from tensorflow.keras.models import Sequential \n",
    "from tensorflow.keras.optimizers import Adam , Adamax \n",
    "from tensorflow.keras.preprocessing.image import ImageDataGenerator \n",
    "from tensorflow.keras.layers import Conv2D, MaxPooling2D, Flatten, Dense, Dropout\n",
    "\n",
    "print(\"Done\")"
   ]
  },
  {
   "cell_type": "markdown",
   "metadata": {},
   "source": [
    "# **Preprocessing**"
   ]
  },
  {
   "cell_type": "code",
   "execution_count": null,
   "metadata": {
    "execution": {
     "iopub.execute_input": "2024-08-09T18:26:21.853549Z",
     "iopub.status.busy": "2024-08-09T18:26:21.852883Z",
     "iopub.status.idle": "2024-08-09T18:26:21.879228Z",
     "shell.execute_reply": "2024-08-09T18:26:21.878459Z",
     "shell.execute_reply.started": "2024-08-09T18:26:21.853517Z"
    }
   },
   "outputs": [],
   "source": [
    "folder_training = \"/kaggle/input/brain-tumor-mri-dataset/Training\"\n",
    "Path = []\n",
    "Labels = []\n",
    "\n",
    "#to get the path for each Img :\n",
    "\n",
    "folders_path = os.listdir(folder_training)\n",
    "for img in folders_path : \n",
    "    FolderPath = os.path.join(folder_training, img)\n",
    "    FolderName = os.listdir(FolderPath)\n",
    "    for path in FolderName :\n",
    "        Images_path = os.path.join(FolderPath, path)\n",
    "        \n",
    "        Path.append(Images_path)\n",
    "        Labels.append(img)\n",
    "\n",
    "# to creat DataFrame        \n",
    "Pseries = pd.Series(Path, name = \"Img_Path\")\n",
    "Lseries = pd.Series(Labels, name = \"Img_label\")\n",
    "df_train = pd.concat([Pseries, Lseries], axis=1)"
   ]
  },
  {
   "cell_type": "code",
   "execution_count": null,
   "metadata": {
    "execution": {
     "iopub.execute_input": "2024-08-09T18:26:24.106272Z",
     "iopub.status.busy": "2024-08-09T18:26:24.105406Z",
     "iopub.status.idle": "2024-08-09T18:26:24.117293Z",
     "shell.execute_reply": "2024-08-09T18:26:24.116299Z",
     "shell.execute_reply.started": "2024-08-09T18:26:24.10624Z"
    }
   },
   "outputs": [],
   "source": [
    "df_train\n"
   ]
  },
  {
   "cell_type": "code",
   "execution_count": null,
   "metadata": {
    "execution": {
     "iopub.execute_input": "2024-08-09T18:26:47.979228Z",
     "iopub.status.busy": "2024-08-09T18:26:47.978397Z",
     "iopub.status.idle": "2024-08-09T18:26:47.994839Z",
     "shell.execute_reply": "2024-08-09T18:26:47.993771Z",
     "shell.execute_reply.started": "2024-08-09T18:26:47.979194Z"
    }
   },
   "outputs": [],
   "source": [
    "folder_test = \"/kaggle/input/brain-tumor-mri-dataset/Testing\"\n",
    "Path = []\n",
    "Labels = []\n",
    "\n",
    "# To get the path for each image in the test set:\n",
    "\n",
    "folders_path = os.listdir(folder_test)  # Use folder_test here\n",
    "for img in folders_path: \n",
    "    FolderPath = os.path.join(folder_test, img)  # Use folder_test here\n",
    "    FolderName = os.listdir(FolderPath)\n",
    "    for path in FolderName:\n",
    "        Images_path = os.path.join(FolderPath, path)\n",
    "        \n",
    "        Path.append(Images_path)\n",
    "        Labels.append(img)\n",
    "\n",
    "# To create DataFrame        \n",
    "Pseries = pd.Series(Path, name = \"Img_Path\")\n",
    "Lseries = pd.Series(Labels, name = \"Img_label\")\n",
    "df_test = pd.concat([Pseries, Lseries], axis=1)\n"
   ]
  },
  {
   "cell_type": "code",
   "execution_count": null,
   "metadata": {
    "execution": {
     "iopub.execute_input": "2024-08-09T18:26:49.800148Z",
     "iopub.status.busy": "2024-08-09T18:26:49.799565Z",
     "iopub.status.idle": "2024-08-09T18:26:49.811103Z",
     "shell.execute_reply": "2024-08-09T18:26:49.810107Z",
     "shell.execute_reply.started": "2024-08-09T18:26:49.800118Z"
    }
   },
   "outputs": [],
   "source": [
    "df_test"
   ]
  },
  {
   "cell_type": "code",
   "execution_count": null,
   "metadata": {
    "execution": {
     "iopub.execute_input": "2024-08-09T18:26:52.862717Z",
     "iopub.status.busy": "2024-08-09T18:26:52.862359Z",
     "iopub.status.idle": "2024-08-09T18:26:52.869225Z",
     "shell.execute_reply": "2024-08-09T18:26:52.868205Z",
     "shell.execute_reply.started": "2024-08-09T18:26:52.86269Z"
    }
   },
   "outputs": [],
   "source": [
    "valid_df, test_df = train_test_split(df_test, train_size=0.5, shuffle= True, random_state=42)"
   ]
  },
  {
   "cell_type": "code",
   "execution_count": null,
   "metadata": {
    "execution": {
     "iopub.execute_input": "2024-08-09T18:28:14.320081Z",
     "iopub.status.busy": "2024-08-09T18:28:14.319402Z",
     "iopub.status.idle": "2024-08-09T18:28:21.04744Z",
     "shell.execute_reply": "2024-08-09T18:28:21.046468Z",
     "shell.execute_reply.started": "2024-08-09T18:28:14.320047Z"
    }
   },
   "outputs": [],
   "source": [
    "batch_size = 16\n",
    "img_size = (224, 224)\n",
    "\n",
    "tr_gen = ImageDataGenerator()\n",
    "ts_gen = ImageDataGenerator()\n",
    "\n",
    "train_generator = tr_gen.flow_from_dataframe(\n",
    "    df_train, \n",
    "    x_col='Img_Path',  # Use the correct column name for file paths\n",
    "    y_col='Img_label', # Use the correct column name for labels\n",
    "    target_size=img_size, \n",
    "    class_mode='categorical',\n",
    "    color_mode='rgb', \n",
    "    shuffle=True, \n",
    "    batch_size=batch_size\n",
    ")\n",
    "\n",
    "valid_generator = ts_gen.flow_from_dataframe(\n",
    "    valid_df, \n",
    "    x_col='Img_Path',  # Use the correct column name for file paths\n",
    "    y_col='Img_label', # Use the correct column name for labels\n",
    "    target_size=img_size, \n",
    "    class_mode='categorical',\n",
    "    color_mode='rgb', \n",
    "    shuffle=True, \n",
    "    batch_size=batch_size\n",
    ")\n",
    "\n",
    "test_generator = ts_gen.flow_from_dataframe(\n",
    "    test_df, \n",
    "    x_col='Img_Path',  # Use the correct column name for file paths\n",
    "    y_col='Img_label', # Use the correct column name for labels\n",
    "    target_size=img_size, \n",
    "    class_mode='categorical',\n",
    "    color_mode='rgb', \n",
    "    shuffle=False, \n",
    "    batch_size=batch_size\n",
    ")"
   ]
  },
  {
   "cell_type": "markdown",
   "metadata": {},
   "source": [
    "## **Show sample of Data**"
   ]
  },
  {
   "cell_type": "code",
   "execution_count": null,
   "metadata": {
    "execution": {
     "iopub.execute_input": "2024-08-09T18:28:34.747955Z",
     "iopub.status.busy": "2024-08-09T18:28:34.747607Z",
     "iopub.status.idle": "2024-08-09T18:28:39.796762Z",
     "shell.execute_reply": "2024-08-09T18:28:39.79537Z",
     "shell.execute_reply.started": "2024-08-09T18:28:34.747927Z"
    }
   },
   "outputs": [],
   "source": [
    "# Dictionary mapping class names to indices\n",
    "gen_dict = train_generator.class_indices\n",
    "# List of class names\n",
    "classes = list(gen_dict.keys())\n",
    "\n",
    "# Fetch a batch of images and labels\n",
    "images, labels = next(train_generator)\n",
    "\n",
    "# Set up the figure size\n",
    "plt.figure(figsize=(20, 20))\n",
    "\n",
    "# Loop through the first 20 images in the batch\n",
    "for i in range(16):\n",
    "    plt.subplot(4, 4, i + 1)\n",
    "    \n",
    "    # Normalize image pixel values to [0, 1] range\n",
    "    image = images[i] / 255.0\n",
    "    \n",
    "    # Display the image\n",
    "    plt.imshow(image)\n",
    "    \n",
    "    # Get the class index and class name\n",
    "    index = np.argmax(labels[i])  # Get image index\n",
    "    class_name = classes[index]   # Get class of image\n",
    "    \n",
    "    # Set the title with class name\n",
    "    plt.title(class_name, color='red', fontsize=20)\n",
    "    plt.axis('off')\n",
    "\n",
    "# Adjust layout for better spacing between plots\n",
    "plt.tight_layout()\n",
    "# Display the plot\n",
    "plt.show()"
   ]
  },
  {
   "cell_type": "markdown",
   "metadata": {},
   "source": [
    "## **The Structure of Model**"
   ]
  },
  {
   "cell_type": "code",
   "execution_count": null,
   "metadata": {
    "execution": {
     "iopub.execute_input": "2024-08-09T18:29:44.718945Z",
     "iopub.status.busy": "2024-08-09T18:29:44.718019Z",
     "iopub.status.idle": "2024-08-09T18:29:45.549173Z",
     "shell.execute_reply": "2024-08-09T18:29:45.548363Z",
     "shell.execute_reply.started": "2024-08-09T18:29:44.718911Z"
    }
   },
   "outputs": [],
   "source": [
    "# Create Model Structure\n",
    "img_size = (224, 224)\n",
    "channels = 3\n",
    "img_shape = (img_size[0], img_size[1], channels)\n",
    "\n",
    "class_count = len(list(train_generator.class_indices.keys())) # to define number of classes in dense layer\n",
    "\n",
    "model = Sequential([\n",
    "    Conv2D(filters=64, kernel_size=(3,3), padding=\"same\", activation=\"relu\", input_shape= img_shape),\n",
    "    Conv2D(filters=64, kernel_size=(3,3), padding=\"same\", activation=\"relu\"),\n",
    "    MaxPooling2D((2, 2)),\n",
    "    \n",
    "    Conv2D(filters=128, kernel_size=(3,3), padding=\"same\", activation=\"relu\"),\n",
    "    Conv2D(filters=128, kernel_size=(3,3), padding=\"same\", activation=\"relu\"),\n",
    "    MaxPooling2D((2, 2)),\n",
    "    \n",
    "    Conv2D(filters=256, kernel_size=(3,3), padding=\"same\", activation=\"relu\"),\n",
    "    Conv2D(filters=256, kernel_size=(3,3), padding=\"same\", activation=\"relu\"),\n",
    "    Conv2D(filters=256, kernel_size=(3,3), padding=\"same\", activation=\"relu\"),\n",
    "    MaxPooling2D((2, 2)),\n",
    "    \n",
    "    Conv2D(filters=512, kernel_size=(3,3), padding=\"same\", activation=\"relu\"),\n",
    "    Conv2D(filters=512, kernel_size=(3,3), padding=\"same\", activation=\"relu\"),\n",
    "    Conv2D(filters=512, kernel_size=(3,3), padding=\"same\", activation=\"relu\"),\n",
    "    MaxPooling2D((2, 2)),\n",
    "    \n",
    "    Conv2D(filters=512, kernel_size=(3,3), padding=\"same\", activation=\"relu\"),\n",
    "    Conv2D(filters=512, kernel_size=(3,3), padding=\"same\", activation=\"relu\"),\n",
    "    Conv2D(filters=512, kernel_size=(3,3), padding=\"same\", activation=\"relu\"),\n",
    "    MaxPooling2D((2, 2)),\n",
    "    \n",
    "    Flatten(),\n",
    "    \n",
    "    Dense(256,activation = \"relu\"),\n",
    "    Dense(64,activation = \"relu\"),\n",
    "    Dense(class_count, activation = \"softmax\")\n",
    "])\n",
    "\n",
    "model.compile(Adamax(learning_rate= 0.001), loss= 'categorical_crossentropy', metrics= ['accuracy'])\n",
    "\n",
    "model.summary()"
   ]
  },
  {
   "cell_type": "code",
   "execution_count": null,
   "metadata": {
    "execution": {
     "iopub.execute_input": "2024-08-09T18:30:16.316156Z",
     "iopub.status.busy": "2024-08-09T18:30:16.315352Z",
     "iopub.status.idle": "2024-08-09T18:38:43.399756Z",
     "shell.execute_reply": "2024-08-09T18:38:43.398938Z",
     "shell.execute_reply.started": "2024-08-09T18:30:16.316126Z"
    }
   },
   "outputs": [],
   "source": [
    "epochs = 12   # number of all epochs in training\n",
    "\n",
    "history = model.fit(train_generator, epochs= epochs, verbose= 1, validation_data= valid_generator, shuffle= False)"
   ]
  },
  {
   "cell_type": "markdown",
   "metadata": {},
   "source": [
    "## **Check the loss on graph**"
   ]
  },
  {
   "cell_type": "code",
   "execution_count": null,
   "metadata": {
    "execution": {
     "iopub.execute_input": "2024-08-09T18:41:56.832902Z",
     "iopub.status.busy": "2024-08-09T18:41:56.832285Z",
     "iopub.status.idle": "2024-08-09T18:41:57.614319Z",
     "shell.execute_reply": "2024-08-09T18:41:57.613458Z",
     "shell.execute_reply.started": "2024-08-09T18:41:56.832871Z"
    }
   },
   "outputs": [],
   "source": [
    "# Define needed variables\n",
    "tr_acc = history.history['accuracy']\n",
    "tr_loss = history.history['loss']\n",
    "val_acc = history.history['val_accuracy']\n",
    "val_loss = history.history['val_loss']\n",
    "index_loss = np.argmin(val_loss)\n",
    "val_lowest = val_loss[index_loss]\n",
    "index_acc = np.argmax(val_acc)\n",
    "acc_highest = val_acc[index_acc]\n",
    "\n",
    "Epochs = [i+1 for i in range(len(tr_acc))]\n",
    "loss_label = f'best epoch= {str(index_loss + 1)}'\n",
    "acc_label = f'best epoch= {str(index_acc + 1)}'\n",
    "\n",
    "# Plot training history\n",
    "plt.figure(figsize= (20, 8))\n",
    "plt.style.use('fivethirtyeight')\n",
    "\n",
    "plt.subplot(1, 2, 1)\n",
    "plt.plot(Epochs, tr_loss, 'r', label= 'Training loss')\n",
    "plt.plot(Epochs, val_loss, 'g', label= 'Validation loss')\n",
    "plt.scatter(index_loss + 1, val_lowest, s= 150, c= 'blue', label= loss_label)\n",
    "plt.title('Training and Validation Loss')\n",
    "plt.xlabel('Epochs')\n",
    "plt.ylabel('Loss')\n",
    "plt.legend()\n",
    "\n",
    "plt.subplot(1, 2, 2)\n",
    "plt.plot(Epochs, tr_acc, 'r', label= 'Training Accuracy')\n",
    "plt.plot(Epochs, val_acc, 'g', label= 'Validation Accuracy')\n",
    "plt.scatter(index_acc + 1 , acc_highest, s= 150, c= 'blue', label= acc_label)\n",
    "plt.title('Training and Validation Accuracy')\n",
    "plt.xlabel('Epochs')\n",
    "plt.ylabel('Accuracy')\n",
    "plt.legend()\n",
    "\n",
    "plt.tight_layout\n",
    "plt.show()"
   ]
  },
  {
   "cell_type": "code",
   "execution_count": null,
   "metadata": {
    "execution": {
     "iopub.execute_input": "2024-08-09T18:42:27.813151Z",
     "iopub.status.busy": "2024-08-09T18:42:27.81232Z",
     "iopub.status.idle": "2024-08-09T18:42:46.975744Z",
     "shell.execute_reply": "2024-08-09T18:42:46.974839Z",
     "shell.execute_reply.started": "2024-08-09T18:42:27.813116Z"
    }
   },
   "outputs": [],
   "source": [
    "train_score = model.evaluate(train_generator, verbose= 1)\n",
    "valid_score = model.evaluate(valid_generator, verbose= 1)\n",
    "test_score = model.evaluate(test_generator, verbose= 1)\n",
    "\n",
    "print(\"Train Loss: \", train_score[0])\n",
    "print(\"Train Accuracy: \", train_score[1])\n",
    "print('-' * 20)\n",
    "print(\"Validation Loss: \", valid_score[0])\n",
    "print(\"Validation Accuracy: \", valid_score[1])\n",
    "print('-' * 20)\n",
    "print(\"Test Loss: \", test_score[0])\n",
    "print(\"Test Accuracy: \", test_score[1])"
   ]
  },
  {
   "cell_type": "code",
   "execution_count": null,
   "metadata": {
    "execution": {
     "iopub.execute_input": "2024-08-09T18:43:44.38195Z",
     "iopub.status.busy": "2024-08-09T18:43:44.381576Z",
     "iopub.status.idle": "2024-08-09T18:43:46.546541Z",
     "shell.execute_reply": "2024-08-09T18:43:46.545595Z",
     "shell.execute_reply.started": "2024-08-09T18:43:44.38192Z"
    }
   },
   "outputs": [],
   "source": [
    "preds = model.predict(test_generator)\n",
    "y_pred = np.argmax(preds, axis=1)"
   ]
  },
  {
   "cell_type": "markdown",
   "metadata": {},
   "source": [
    "## **Confusion matrix for the test datat** "
   ]
  },
  {
   "cell_type": "code",
   "execution_count": null,
   "metadata": {
    "execution": {
     "iopub.execute_input": "2024-08-09T18:46:00.017466Z",
     "iopub.status.busy": "2024-08-09T18:46:00.016714Z",
     "iopub.status.idle": "2024-08-09T18:46:00.506609Z",
     "shell.execute_reply": "2024-08-09T18:46:00.50565Z",
     "shell.execute_reply.started": "2024-08-09T18:46:00.017436Z"
    }
   },
   "outputs": [],
   "source": [
    "# Generate the class labels\n",
    "g_dict = test_generator.class_indices\n",
    "classes = list(g_dict.keys())\n",
    "\n",
    "# Compute the confusion matrix\n",
    "cm = confusion_matrix(test_generator.classes, y_pred)\n",
    "\n",
    "# Plot confusion matrix\n",
    "plt.figure(figsize=(10, 10))\n",
    "plt.imshow(cm, interpolation='nearest', cmap='Reds')  # Use red colormap\n",
    "plt.title('Confusion Matrix')\n",
    "plt.colorbar()\n",
    "\n",
    "# Set tick marks and labels\n",
    "tick_marks = np.arange(len(classes))\n",
    "plt.xticks(tick_marks, classes, rotation=45)\n",
    "plt.yticks(tick_marks, classes)\n",
    "\n",
    "# Add text annotations\n",
    "thresh = cm.max() / 2.\n",
    "for i, j in itertools.product(range(cm.shape[0]), range(cm.shape[1])):\n",
    "    plt.text(j, i, cm[i, j], horizontalalignment='center',\n",
    "             color='white' if cm[i, j] > thresh else 'black')\n",
    "\n",
    "plt.tight_layout()  # Adjust subplots to fit into the figure area\n",
    "plt.ylabel('True Label')\n",
    "plt.xlabel('Predicted Label')\n",
    "\n",
    "plt.show()\n"
   ]
  },
  {
   "cell_type": "code",
   "execution_count": null,
   "metadata": {
    "execution": {
     "iopub.execute_input": "2024-08-09T18:47:53.897746Z",
     "iopub.status.busy": "2024-08-09T18:47:53.89709Z",
     "iopub.status.idle": "2024-08-09T18:47:53.91212Z",
     "shell.execute_reply": "2024-08-09T18:47:53.911083Z",
     "shell.execute_reply.started": "2024-08-09T18:47:53.897715Z"
    }
   },
   "outputs": [],
   "source": [
    "print(classification_report(test_generator.classes, y_pred, target_names= classes))"
   ]
  },
  {
   "cell_type": "code",
   "execution_count": null,
   "metadata": {
    "execution": {
     "iopub.execute_input": "2024-08-09T18:47:58.973698Z",
     "iopub.status.busy": "2024-08-09T18:47:58.973331Z",
     "iopub.status.idle": "2024-08-09T18:47:59.511342Z",
     "shell.execute_reply": "2024-08-09T18:47:59.510555Z",
     "shell.execute_reply.started": "2024-08-09T18:47:58.973671Z"
    }
   },
   "outputs": [],
   "source": [
    "#Save the model\n",
    "model.save('Brain Tumors Classifier.h5')"
   ]
  },
  {
   "cell_type": "markdown",
   "metadata": {},
   "source": [
    "## **Try the Model**"
   ]
  },
  {
   "cell_type": "code",
   "execution_count": null,
   "metadata": {
    "execution": {
     "iopub.execute_input": "2024-08-09T19:01:53.105893Z",
     "iopub.status.busy": "2024-08-09T19:01:53.105525Z",
     "iopub.status.idle": "2024-08-09T19:01:55.527883Z",
     "shell.execute_reply": "2024-08-09T19:01:55.526973Z",
     "shell.execute_reply.started": "2024-08-09T19:01:53.105864Z"
    }
   },
   "outputs": [],
   "source": [
    "# Load the model\n",
    "loaded_model = tf.keras.models.load_model('/kaggle/working/Brain Tumors Classifier.h5', compile=False)\n",
    "loaded_model.compile(Adamax(learning_rate=0.001), loss='categorical_crossentropy', metrics=['accuracy'])\n",
    "\n",
    "# Image path\n",
    "image_path = '/kaggle/input/brain-tumor-mri-dataset/Testing/notumor/Te-noTr_0004.jpg'\n",
    "image = Image.open(image_path)\n",
    "\n",
    "# Preprocess the image before prediction\n",
    "img = image.resize((224, 224))\n",
    "img_array = tf.keras.preprocessing.image.img_to_array(img)\n",
    "img_array = tf.expand_dims(img_array, 0)  # Add batch dimension\n",
    "\n",
    "# Make predictions\n",
    "predictions = loaded_model.predict(img_array)\n",
    "class_labels = ['Glioma', 'Meningioma', 'No Tumor', 'Pituitary']\n",
    "\n",
    "# Print the predicted class\n",
    "predicted_class = class_labels[np.argmax(predictions)]\n",
    "print(predicted_class)"
   ]
  },
  {
   "cell_type": "code",
   "execution_count": null,
   "metadata": {},
   "outputs": [],
   "source": []
  }
 ],
 "metadata": {
  "kaggle": {
   "accelerator": "gpu",
   "dataSources": [
    {
     "datasetId": 1608934,
     "sourceId": 2645886,
     "sourceType": "datasetVersion"
    }
   ],
   "dockerImageVersionId": 30747,
   "isGpuEnabled": true,
   "isInternetEnabled": true,
   "language": "python",
   "sourceType": "notebook"
  },
  "kernelspec": {
   "display_name": "Python 3 (ipykernel)",
   "language": "python",
   "name": "python3"
  },
  "language_info": {
   "codemirror_mode": {
    "name": "ipython",
    "version": 3
   },
   "file_extension": ".py",
   "mimetype": "text/x-python",
   "name": "python",
   "nbconvert_exporter": "python",
   "pygments_lexer": "ipython3",
   "version": "3.11.9"
  }
 },
 "nbformat": 4,
 "nbformat_minor": 4
}
